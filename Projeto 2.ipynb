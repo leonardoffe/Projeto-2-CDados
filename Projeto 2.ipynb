{
 "cells": [
  {
   "cell_type": "code",
   "execution_count": 2,
   "metadata": {},
   "outputs": [],
   "source": [
    "import pandas as pd\n",
    "import matplotlib.pyplot as plt\n",
    "import numpy as np"
   ]
  },
  {
   "cell_type": "code",
   "execution_count": 3,
   "metadata": {},
   "outputs": [],
   "source": [
    "dados = pd.read_csv(\"vgsales.csv\")"
   ]
  },
  {
   "cell_type": "code",
   "execution_count": 4,
   "metadata": {},
   "outputs": [],
   "source": [
    "#remove valores NaN\n",
    "dados = dados.dropna()"
   ]
  },
  {
   "cell_type": "code",
   "execution_count": 5,
   "metadata": {},
   "outputs": [],
   "source": [
    "#obtendo apenas variaveis desejadas\n",
    "#desjamos prever a venda de um videogame na america do norte em função da plataforma, ano, genero e autora\n",
    "dataset = dados.loc[:, [\"Platform\", \"Year\", \"Genre\" , \"Publisher\", \"NA_Sales\"]]"
   ]
  },
  {
   "cell_type": "code",
   "execution_count": 6,
   "metadata": {},
   "outputs": [],
   "source": [
    "#escolhendo consoles para comparar\n",
    "consoles = dataset[\"Platform\"].value_counts()"
   ]
  },
  {
   "cell_type": "code",
   "execution_count": 7,
   "metadata": {},
   "outputs": [],
   "source": [
    "#plataformas relevantes\n",
    "relevantes = (dataset[\"Platform\"] == \"PS3\") | (dataset[\"Platform\"] == \"Wii\") |  (dataset[\"Platform\"] == \"X360\")\n",
    "dataset = dataset.loc[relevantes,:]"
   ]
  },
  {
   "cell_type": "code",
   "execution_count": 8,
   "metadata": {},
   "outputs": [
    {
     "data": {
      "text/plain": [
       "Electronic Arts                 395\n",
       "Activision                      350\n",
       "Ubisoft                         285\n",
       "Namco Bandai Games              214\n",
       "THQ                             185\n",
       "Konami Digital Entertainment    162\n",
       "Take-Two Interactive            161\n",
       "Sega                            148\n",
       "Sony Computer Entertainment     128\n",
       "Capcom                           95\n",
       "Name: Publisher, dtype: int64"
      ]
     },
     "execution_count": 8,
     "metadata": {},
     "output_type": "execute_result"
    }
   ],
   "source": [
    "#Peganado top 10 publishers\n",
    "top_10 = dataset[\"Publisher\"].value_counts().head(10)\n",
    "top_10_dict = top_10.to_dict()\n",
    "chav = top_10_dict.keys()\n",
    "\n",
    "\n",
    "keys = []\n",
    "\n",
    "\n",
    "for i in chav:\n",
    "    keys.append(i)\n",
    "top_10"
   ]
  },
  {
   "cell_type": "code",
   "execution_count": 9,
   "metadata": {},
   "outputs": [],
   "source": [
    "#filtrando publishers\n",
    "filtro = (dataset[\"Publisher\"] == keys[0]) | (dataset[\"Publisher\"] == keys[1]) | \\\n",
    "(dataset[\"Publisher\"] == keys[2]) | (dataset[\"Publisher\"] == keys[3]) | (dataset[\"Publisher\"] == keys[4])\\\n",
    "| (dataset[\"Publisher\"] == keys[5]) | (dataset[\"Publisher\"] == keys[6]) | (dataset[\"Publisher\"] == keys[7])\\\n",
    "| (dataset[\"Publisher\"] == keys[8]) | (dataset[\"Publisher\"] == keys[9])\n",
    "\n",
    "game = dataset.loc[filtro,:]"
   ]
  },
  {
   "cell_type": "code",
   "execution_count": 10,
   "metadata": {},
   "outputs": [
    {
     "data": {
      "text/html": [
       "<div>\n",
       "<style scoped>\n",
       "    .dataframe tbody tr th:only-of-type {\n",
       "        vertical-align: middle;\n",
       "    }\n",
       "\n",
       "    .dataframe tbody tr th {\n",
       "        vertical-align: top;\n",
       "    }\n",
       "\n",
       "    .dataframe thead th {\n",
       "        text-align: right;\n",
       "    }\n",
       "</style>\n",
       "<table border=\"1\" class=\"dataframe\">\n",
       "  <thead>\n",
       "    <tr style=\"text-align: right;\">\n",
       "      <th></th>\n",
       "      <th>Year</th>\n",
       "      <th>NA_Sales</th>\n",
       "      <th>Platform_PS3</th>\n",
       "      <th>Platform_Wii</th>\n",
       "      <th>Platform_X360</th>\n",
       "      <th>Genre_Action</th>\n",
       "      <th>Genre_Adventure</th>\n",
       "      <th>Genre_Fighting</th>\n",
       "      <th>Genre_Misc</th>\n",
       "      <th>Genre_Platform</th>\n",
       "      <th>...</th>\n",
       "      <th>Publisher_Activision</th>\n",
       "      <th>Publisher_Capcom</th>\n",
       "      <th>Publisher_Electronic Arts</th>\n",
       "      <th>Publisher_Konami Digital Entertainment</th>\n",
       "      <th>Publisher_Namco Bandai Games</th>\n",
       "      <th>Publisher_Sega</th>\n",
       "      <th>Publisher_Sony Computer Entertainment</th>\n",
       "      <th>Publisher_THQ</th>\n",
       "      <th>Publisher_Take-Two Interactive</th>\n",
       "      <th>Publisher_Ubisoft</th>\n",
       "    </tr>\n",
       "  </thead>\n",
       "  <tbody>\n",
       "    <tr>\n",
       "      <td>16</td>\n",
       "      <td>2013.0</td>\n",
       "      <td>7.01</td>\n",
       "      <td>1</td>\n",
       "      <td>0</td>\n",
       "      <td>0</td>\n",
       "      <td>1</td>\n",
       "      <td>0</td>\n",
       "      <td>0</td>\n",
       "      <td>0</td>\n",
       "      <td>0</td>\n",
       "      <td>...</td>\n",
       "      <td>0</td>\n",
       "      <td>0</td>\n",
       "      <td>0</td>\n",
       "      <td>0</td>\n",
       "      <td>0</td>\n",
       "      <td>0</td>\n",
       "      <td>0</td>\n",
       "      <td>0</td>\n",
       "      <td>1</td>\n",
       "      <td>0</td>\n",
       "    </tr>\n",
       "    <tr>\n",
       "      <td>23</td>\n",
       "      <td>2013.0</td>\n",
       "      <td>9.63</td>\n",
       "      <td>0</td>\n",
       "      <td>0</td>\n",
       "      <td>1</td>\n",
       "      <td>1</td>\n",
       "      <td>0</td>\n",
       "      <td>0</td>\n",
       "      <td>0</td>\n",
       "      <td>0</td>\n",
       "      <td>...</td>\n",
       "      <td>0</td>\n",
       "      <td>0</td>\n",
       "      <td>0</td>\n",
       "      <td>0</td>\n",
       "      <td>0</td>\n",
       "      <td>0</td>\n",
       "      <td>0</td>\n",
       "      <td>0</td>\n",
       "      <td>1</td>\n",
       "      <td>0</td>\n",
       "    </tr>\n",
       "    <tr>\n",
       "      <td>29</td>\n",
       "      <td>2011.0</td>\n",
       "      <td>9.03</td>\n",
       "      <td>0</td>\n",
       "      <td>0</td>\n",
       "      <td>1</td>\n",
       "      <td>0</td>\n",
       "      <td>0</td>\n",
       "      <td>0</td>\n",
       "      <td>0</td>\n",
       "      <td>0</td>\n",
       "      <td>...</td>\n",
       "      <td>1</td>\n",
       "      <td>0</td>\n",
       "      <td>0</td>\n",
       "      <td>0</td>\n",
       "      <td>0</td>\n",
       "      <td>0</td>\n",
       "      <td>0</td>\n",
       "      <td>0</td>\n",
       "      <td>0</td>\n",
       "      <td>0</td>\n",
       "    </tr>\n",
       "    <tr>\n",
       "      <td>31</td>\n",
       "      <td>2010.0</td>\n",
       "      <td>9.67</td>\n",
       "      <td>0</td>\n",
       "      <td>0</td>\n",
       "      <td>1</td>\n",
       "      <td>0</td>\n",
       "      <td>0</td>\n",
       "      <td>0</td>\n",
       "      <td>0</td>\n",
       "      <td>0</td>\n",
       "      <td>...</td>\n",
       "      <td>1</td>\n",
       "      <td>0</td>\n",
       "      <td>0</td>\n",
       "      <td>0</td>\n",
       "      <td>0</td>\n",
       "      <td>0</td>\n",
       "      <td>0</td>\n",
       "      <td>0</td>\n",
       "      <td>0</td>\n",
       "      <td>0</td>\n",
       "    </tr>\n",
       "    <tr>\n",
       "      <td>34</td>\n",
       "      <td>2012.0</td>\n",
       "      <td>4.99</td>\n",
       "      <td>1</td>\n",
       "      <td>0</td>\n",
       "      <td>0</td>\n",
       "      <td>0</td>\n",
       "      <td>0</td>\n",
       "      <td>0</td>\n",
       "      <td>0</td>\n",
       "      <td>0</td>\n",
       "      <td>...</td>\n",
       "      <td>1</td>\n",
       "      <td>0</td>\n",
       "      <td>0</td>\n",
       "      <td>0</td>\n",
       "      <td>0</td>\n",
       "      <td>0</td>\n",
       "      <td>0</td>\n",
       "      <td>0</td>\n",
       "      <td>0</td>\n",
       "      <td>0</td>\n",
       "    </tr>\n",
       "    <tr>\n",
       "      <td>...</td>\n",
       "      <td>...</td>\n",
       "      <td>...</td>\n",
       "      <td>...</td>\n",
       "      <td>...</td>\n",
       "      <td>...</td>\n",
       "      <td>...</td>\n",
       "      <td>...</td>\n",
       "      <td>...</td>\n",
       "      <td>...</td>\n",
       "      <td>...</td>\n",
       "      <td>...</td>\n",
       "      <td>...</td>\n",
       "      <td>...</td>\n",
       "      <td>...</td>\n",
       "      <td>...</td>\n",
       "      <td>...</td>\n",
       "      <td>...</td>\n",
       "      <td>...</td>\n",
       "      <td>...</td>\n",
       "      <td>...</td>\n",
       "      <td>...</td>\n",
       "    </tr>\n",
       "    <tr>\n",
       "      <td>16413</td>\n",
       "      <td>2006.0</td>\n",
       "      <td>0.00</td>\n",
       "      <td>0</td>\n",
       "      <td>0</td>\n",
       "      <td>1</td>\n",
       "      <td>1</td>\n",
       "      <td>0</td>\n",
       "      <td>0</td>\n",
       "      <td>0</td>\n",
       "      <td>0</td>\n",
       "      <td>...</td>\n",
       "      <td>0</td>\n",
       "      <td>0</td>\n",
       "      <td>1</td>\n",
       "      <td>0</td>\n",
       "      <td>0</td>\n",
       "      <td>0</td>\n",
       "      <td>0</td>\n",
       "      <td>0</td>\n",
       "      <td>0</td>\n",
       "      <td>0</td>\n",
       "    </tr>\n",
       "    <tr>\n",
       "      <td>16437</td>\n",
       "      <td>2010.0</td>\n",
       "      <td>0.01</td>\n",
       "      <td>0</td>\n",
       "      <td>1</td>\n",
       "      <td>0</td>\n",
       "      <td>0</td>\n",
       "      <td>0</td>\n",
       "      <td>0</td>\n",
       "      <td>0</td>\n",
       "      <td>0</td>\n",
       "      <td>...</td>\n",
       "      <td>0</td>\n",
       "      <td>0</td>\n",
       "      <td>0</td>\n",
       "      <td>1</td>\n",
       "      <td>0</td>\n",
       "      <td>0</td>\n",
       "      <td>0</td>\n",
       "      <td>0</td>\n",
       "      <td>0</td>\n",
       "      <td>0</td>\n",
       "    </tr>\n",
       "    <tr>\n",
       "      <td>16482</td>\n",
       "      <td>2012.0</td>\n",
       "      <td>0.01</td>\n",
       "      <td>0</td>\n",
       "      <td>0</td>\n",
       "      <td>1</td>\n",
       "      <td>0</td>\n",
       "      <td>0</td>\n",
       "      <td>1</td>\n",
       "      <td>0</td>\n",
       "      <td>0</td>\n",
       "      <td>...</td>\n",
       "      <td>0</td>\n",
       "      <td>0</td>\n",
       "      <td>0</td>\n",
       "      <td>0</td>\n",
       "      <td>1</td>\n",
       "      <td>0</td>\n",
       "      <td>0</td>\n",
       "      <td>0</td>\n",
       "      <td>0</td>\n",
       "      <td>0</td>\n",
       "    </tr>\n",
       "    <tr>\n",
       "      <td>16517</td>\n",
       "      <td>2007.0</td>\n",
       "      <td>0.00</td>\n",
       "      <td>0</td>\n",
       "      <td>1</td>\n",
       "      <td>0</td>\n",
       "      <td>1</td>\n",
       "      <td>0</td>\n",
       "      <td>0</td>\n",
       "      <td>0</td>\n",
       "      <td>0</td>\n",
       "      <td>...</td>\n",
       "      <td>0</td>\n",
       "      <td>0</td>\n",
       "      <td>0</td>\n",
       "      <td>1</td>\n",
       "      <td>0</td>\n",
       "      <td>0</td>\n",
       "      <td>0</td>\n",
       "      <td>0</td>\n",
       "      <td>0</td>\n",
       "      <td>0</td>\n",
       "    </tr>\n",
       "    <tr>\n",
       "      <td>16533</td>\n",
       "      <td>2011.0</td>\n",
       "      <td>0.00</td>\n",
       "      <td>0</td>\n",
       "      <td>0</td>\n",
       "      <td>1</td>\n",
       "      <td>1</td>\n",
       "      <td>0</td>\n",
       "      <td>0</td>\n",
       "      <td>0</td>\n",
       "      <td>0</td>\n",
       "      <td>...</td>\n",
       "      <td>0</td>\n",
       "      <td>0</td>\n",
       "      <td>0</td>\n",
       "      <td>1</td>\n",
       "      <td>0</td>\n",
       "      <td>0</td>\n",
       "      <td>0</td>\n",
       "      <td>0</td>\n",
       "      <td>0</td>\n",
       "      <td>0</td>\n",
       "    </tr>\n",
       "  </tbody>\n",
       "</table>\n",
       "<p>2123 rows × 27 columns</p>\n",
       "</div>"
      ],
      "text/plain": [
       "         Year  NA_Sales  Platform_PS3  Platform_Wii  Platform_X360  \\\n",
       "16     2013.0      7.01             1             0              0   \n",
       "23     2013.0      9.63             0             0              1   \n",
       "29     2011.0      9.03             0             0              1   \n",
       "31     2010.0      9.67             0             0              1   \n",
       "34     2012.0      4.99             1             0              0   \n",
       "...       ...       ...           ...           ...            ...   \n",
       "16413  2006.0      0.00             0             0              1   \n",
       "16437  2010.0      0.01             0             1              0   \n",
       "16482  2012.0      0.01             0             0              1   \n",
       "16517  2007.0      0.00             0             1              0   \n",
       "16533  2011.0      0.00             0             0              1   \n",
       "\n",
       "       Genre_Action  Genre_Adventure  Genre_Fighting  Genre_Misc  \\\n",
       "16                1                0               0           0   \n",
       "23                1                0               0           0   \n",
       "29                0                0               0           0   \n",
       "31                0                0               0           0   \n",
       "34                0                0               0           0   \n",
       "...             ...              ...             ...         ...   \n",
       "16413             1                0               0           0   \n",
       "16437             0                0               0           0   \n",
       "16482             0                0               1           0   \n",
       "16517             1                0               0           0   \n",
       "16533             1                0               0           0   \n",
       "\n",
       "       Genre_Platform  ...  Publisher_Activision  Publisher_Capcom  \\\n",
       "16                  0  ...                     0                 0   \n",
       "23                  0  ...                     0                 0   \n",
       "29                  0  ...                     1                 0   \n",
       "31                  0  ...                     1                 0   \n",
       "34                  0  ...                     1                 0   \n",
       "...               ...  ...                   ...               ...   \n",
       "16413               0  ...                     0                 0   \n",
       "16437               0  ...                     0                 0   \n",
       "16482               0  ...                     0                 0   \n",
       "16517               0  ...                     0                 0   \n",
       "16533               0  ...                     0                 0   \n",
       "\n",
       "       Publisher_Electronic Arts  Publisher_Konami Digital Entertainment  \\\n",
       "16                             0                                       0   \n",
       "23                             0                                       0   \n",
       "29                             0                                       0   \n",
       "31                             0                                       0   \n",
       "34                             0                                       0   \n",
       "...                          ...                                     ...   \n",
       "16413                          1                                       0   \n",
       "16437                          0                                       1   \n",
       "16482                          0                                       0   \n",
       "16517                          0                                       1   \n",
       "16533                          0                                       1   \n",
       "\n",
       "       Publisher_Namco Bandai Games  Publisher_Sega  \\\n",
       "16                                0               0   \n",
       "23                                0               0   \n",
       "29                                0               0   \n",
       "31                                0               0   \n",
       "34                                0               0   \n",
       "...                             ...             ...   \n",
       "16413                             0               0   \n",
       "16437                             0               0   \n",
       "16482                             1               0   \n",
       "16517                             0               0   \n",
       "16533                             0               0   \n",
       "\n",
       "       Publisher_Sony Computer Entertainment  Publisher_THQ  \\\n",
       "16                                         0              0   \n",
       "23                                         0              0   \n",
       "29                                         0              0   \n",
       "31                                         0              0   \n",
       "34                                         0              0   \n",
       "...                                      ...            ...   \n",
       "16413                                      0              0   \n",
       "16437                                      0              0   \n",
       "16482                                      0              0   \n",
       "16517                                      0              0   \n",
       "16533                                      0              0   \n",
       "\n",
       "       Publisher_Take-Two Interactive  Publisher_Ubisoft  \n",
       "16                                  1                  0  \n",
       "23                                  1                  0  \n",
       "29                                  0                  0  \n",
       "31                                  0                  0  \n",
       "34                                  0                  0  \n",
       "...                               ...                ...  \n",
       "16413                               0                  0  \n",
       "16437                               0                  0  \n",
       "16482                               0                  0  \n",
       "16517                               0                  0  \n",
       "16533                               0                  0  \n",
       "\n",
       "[2123 rows x 27 columns]"
      ]
     },
     "execution_count": 10,
     "metadata": {},
     "output_type": "execute_result"
    }
   ],
   "source": [
    "#DataSet com Dummies\n",
    "gamed = pd.get_dummies(game, columns = [\"Platform\", \"Genre\", \"Publisher\"])\n",
    "gamed"
   ]
  },
  {
   "cell_type": "code",
   "execution_count": 11,
   "metadata": {},
   "outputs": [],
   "source": [
    "PS3 = gamed[\"Platform_PS3\"] == 1\n",
    "Wii = gamed[\"Platform_Wii\"] == 1\n",
    "X360 = gamed[\"Platform_X360\"] == 1\n",
    "\n",
    "PS3 = gamed.loc[PS3,:]\n",
    "Wii = gamed.loc[Wii,:]\n",
    "X360 = gamed.loc[X360,:]"
   ]
  },
  {
   "cell_type": "code",
   "execution_count": 26,
   "metadata": {},
   "outputs": [],
   "source": [
    "total_sales = gamed[\"NA_Sales\"]"
   ]
  },
  {
   "cell_type": "code",
   "execution_count": 27,
   "metadata": {},
   "outputs": [
    {
     "data": {
      "image/png": "[encoded data removed]",
      "text/plain": [
       "<Figure size 432x288 with 1 Axes>"
      ]
     },
     "metadata": {
      "needs_background": "light"
     },
     "output_type": "display_data"
    }
   ],
   "source": [
    "plt.hist(total_sales, density = True, bins = 40);"
   ]
  },
  {
   "cell_type": "code",
   "execution_count": 21,
   "metadata": {},
   "outputs": [
    {
     "data": {
      "image/png": "[encoded data removed]",
      "text/plain": [
       "<Figure size 432x288 with 1 Axes>"
      ]
     },
     "metadata": {
      "needs_background": "light"
     },
     "output_type": "display_data"
    }
   ],
   "source": [
    "PS3_sales = PS3[\"NA_Sales\"]\n",
    "PS3_sales.describe()\n",
    "plt.hist(PS3_sales, density = True, bins = 40);"
   ]
  },
  {
   "cell_type": "code",
   "execution_count": 20,
   "metadata": {},
   "outputs": [
    {
     "data": {
      "text/plain": [
       "count    701.000000\n",
       "mean       0.550713\n",
       "std        1.027862\n",
       "min        0.000000\n",
       "25%        0.110000\n",
       "50%        0.240000\n",
       "75%        0.570000\n",
       "max        9.670000\n",
       "Name: NA_Sales, dtype: float64"
      ]
     },
     "execution_count": 20,
     "metadata": {},
     "output_type": "execute_result"
    },
    {
     "data": {
      "image/png": "[encoded data removed]",
      "text/plain": [
       "<Figure size 432x288 with 1 Axes>"
      ]
     },
     "metadata": {
      "needs_background": "light"
     },
     "output_type": "display_data"
    }
   ],
   "source": [
    "X360_sales = X360[\"NA_Sales\"]\n",
    "plt.hist(X360_sales, density = True, bins = 40);\n",
    "X360_sales.describe()"
   ]
  },
  {
   "cell_type": "code",
   "execution_count": 19,
   "metadata": {},
   "outputs": [
    {
     "data": {
      "text/plain": [
       "count    596.000000\n",
       "mean       0.340839\n",
       "std        0.536661\n",
       "min        0.000000\n",
       "25%        0.100000\n",
       "50%        0.190000\n",
       "75%        0.410000\n",
       "max        6.050000\n",
       "Name: NA_Sales, dtype: float64"
      ]
     },
     "execution_count": 19,
     "metadata": {},
     "output_type": "execute_result"
    },
    {
     "data": {
      "image/png": "[encoded data removed]",
      "text/plain": [
       "<Figure size 432x288 with 1 Axes>"
      ]
     },
     "metadata": {
      "needs_background": "light"
     },
     "output_type": "display_data"
    }
   ],
   "source": [
    "Wii_sales = Wii[\"NA_Sales\"]\n",
    "plt.hist(Wii_sales, density = True, bins = 40);\n",
    "Wii_sales.describe()"
   ]
  },
  {
   "cell_type": "code",
   "execution_count": null,
   "metadata": {},
   "outputs": [],
   "source": []
  },
  {
   "cell_type": "code",
   "execution_count": null,
   "metadata": {},
   "outputs": [],
   "source": []
  }
 ],
 "metadata": {
  "kernelspec": {
   "display_name": "Python 3",
   "language": "python",
   "name": "python3"
  },
  "language_info": {
   "codemirror_mode": {
    "name": "ipython",
    "version": 3
   },
   "file_extension": ".py",
   "mimetype": "text/x-python",
   "name": "python",
   "nbconvert_exporter": "python",
   "pygments_lexer": "ipython3",
   "version": "3.7.4"
  }
 },
 "nbformat": 4,
 "nbformat_minor": 2
}
