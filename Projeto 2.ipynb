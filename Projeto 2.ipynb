{
 "cells": [
  {
   "cell_type": "code",
   "execution_count": 2,
   "metadata": {},
   "outputs": [],
   "source": [
    "import pandas as pd"
   ]
  },
  {
   "cell_type": "code",
   "execution_count": 3,
   "metadata": {},
   "outputs": [],
   "source": [
    "dados = pd.read_csv(\"vgsales.csv\")"
   ]
  },
  {
   "cell_type": "code",
   "execution_count": 4,
   "metadata": {},
   "outputs": [],
   "source": [
    "#remove valores NaN\n",
    "dados = dados.dropna()"
   ]
  },
  {
   "cell_type": "code",
   "execution_count": 5,
   "metadata": {},
   "outputs": [],
   "source": [
    "#obtendo apenas variaveis desejadas\n",
    "#desjamos prever a venda de um videogame na america do norte em função da plataforma, ano, genero e autora\n",
    "dataset = dados.loc[:, [\"Platform\", \"Year\", \"Genre\" , \"Publisher\", \"NA_Sales\"]]"
   ]
  },
  {
   "cell_type": "code",
   "execution_count": 6,
   "metadata": {},
   "outputs": [],
   "source": [
    "#escolhendo consoles para comparar\n",
    "consoles = dataset[\"Platform\"].value_counts()"
   ]
  },
  {
   "cell_type": "code",
   "execution_count": 7,
   "metadata": {},
   "outputs": [],
   "source": [
    "#plataformas relevantes\n",
    "relevantes = (dataset[\"Platform\"] == \"PS3\") | (dataset[\"Platform\"] == \"Wii\") |  (dataset[\"Platform\"] == \"X360\")\n",
    "dataset = dataset.loc[relevantes,:]"
   ]
  },
  {
   "cell_type": "code",
   "execution_count": 25,
   "metadata": {},
   "outputs": [
    {
     "data": {
      "text/plain": [
       "Electronic Arts                 395\n",
       "Activision                      350\n",
       "Ubisoft                         285\n",
       "Namco Bandai Games              214\n",
       "THQ                             185\n",
       "Konami Digital Entertainment    162\n",
       "Take-Two Interactive            161\n",
       "Sega                            148\n",
       "Sony Computer Entertainment     128\n",
       "Capcom                           95\n",
       "Name: Publisher, dtype: int64"
      ]
     },
     "execution_count": 25,
     "metadata": {},
     "output_type": "execute_result"
    }
   ],
   "source": [
    "#Peganado top 10 publishers\n",
    "top_10 = dataset[\"Publisher\"].value_counts().head(10)\n",
    "top_10_dict = top_10.to_dict()\n",
    "chav = top_10_dict.keys()\n",
    "\n",
    "\n",
    "keys = []\n",
    "\n",
    "\n",
    "for i in chav:\n",
    "    keys.append(i)\n",
    "top_10"
   ]
  },
  {
   "cell_type": "code",
   "execution_count": 28,
   "metadata": {},
   "outputs": [],
   "source": [
    "#filtrando publishers\n",
    "filtro = (dataset[\"Publisher\"] == keys[0]) | (dataset[\"Publisher\"] == keys[1]) | \\\n",
    "(dataset[\"Publisher\"] == keys[2]) | (dataset[\"Publisher\"] == keys[3]) | (dataset[\"Publisher\"] == keys[4])\\\n",
    "| (dataset[\"Publisher\"] == keys[5]) | (dataset[\"Publisher\"] == keys[6]) | (dataset[\"Publisher\"] == keys[7])\\\n",
    "| (dataset[\"Publisher\"] == keys[8]) | (dataset[\"Publisher\"] == keys[9])\n",
    "\n",
    "game = dataset.loc[filtro,:]"
   ]
  },
  {
   "cell_type": "code",
   "execution_count": 31,
   "metadata": {},
   "outputs": [],
   "source": [
    "#DataSet com Dummies\n",
    "#\n",
    "##\n",
    "###\n",
    "#####\n",
    "######\n",
    "#######\n",
    "gamed = pd.get_dummies(game, columns = [\"Platform\", \"Genre\", \"Publisher\"])\n",
    "#######\n",
    "######\n",
    "#####\n",
    "###\n",
    "##\n",
    "#"
   ]
  },
  {
   "cell_type": "code",
   "execution_count": 121,
   "metadata": {},
   "outputs": [
    {
     "data": {
      "text/plain": [
       "310.97"
      ]
     },
     "execution_count": 121,
     "metadata": {},
     "output_type": "execute_result"
    }
   ],
   "source": [
    "PS3 = game[\"Platform\"] == \"PS3\"\n",
    "Wii = game[\"Platform\"] == \"Wii\"\n",
    "X360 = game[\"Platform\"] == \"X360\"\n",
    "\n",
    "PS3 = game.loc[PS3,:]\n",
    "Wii = game.loc[Wii,:]\n",
    "X360 = game.loc[X360,:]"
   ]
  },
  {
   "cell_type": "code",
   "execution_count": 122,
   "metadata": {},
   "outputs": [
    {
     "data": {
      "text/plain": [
       "310.97"
      ]
     },
     "execution_count": 122,
     "metadata": {},
     "output_type": "execute_result"
    }
   ],
   "source": [
    "PS3_sales = PS3[\"NA_Sales\"]\n",
    "PS3_sales.sum()"
   ]
  },
  {
   "cell_type": "code",
   "execution_count": 123,
   "metadata": {},
   "outputs": [
    {
     "data": {
      "text/plain": [
       "386.04999999999995"
      ]
     },
     "execution_count": 123,
     "metadata": {},
     "output_type": "execute_result"
    }
   ],
   "source": [
    "X360_sales = X360[\"NA_Sales\"]\n",
    "X360_sales.sum()"
   ]
  },
  {
   "cell_type": "code",
   "execution_count": 124,
   "metadata": {},
   "outputs": [
    {
     "data": {
      "text/plain": [
       "203.14"
      ]
     },
     "execution_count": 124,
     "metadata": {},
     "output_type": "execute_result"
    }
   ],
   "source": [
    "Wii_sales = Wii[\"NA_Sales\"]\n",
    "Wii_sales.sum()"
   ]
  },
  {
   "cell_type": "code",
   "execution_count": null,
   "metadata": {},
   "outputs": [],
   "source": []
  }
 ],
 "metadata": {
  "kernelspec": {
   "display_name": "Python 3",
   "language": "python",
   "name": "python3"
  },
  "language_info": {
   "codemirror_mode": {
    "name": "ipython",
    "version": 3
   },
   "file_extension": ".py",
   "mimetype": "text/x-python",
   "name": "python",
   "nbconvert_exporter": "python",
   "pygments_lexer": "ipython3",
   "version": "3.7.4"
  }
 },
 "nbformat": 4,
 "nbformat_minor": 2
}
